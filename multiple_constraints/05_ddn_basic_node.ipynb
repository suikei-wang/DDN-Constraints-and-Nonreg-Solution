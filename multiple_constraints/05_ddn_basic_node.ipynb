{
 "cells": [
  {
   "cell_type": "markdown",
   "metadata": {},
   "source": [
    "# Implementing a Declarative Node using the `ddn.basic.node` Module\n",
    "\n",
    "In this notebook we demonstrate how to implement a declarative node using the `ddn.basic.node` module. This will allow us to explore the behavior of the node and solve simple bi-level optimization problems. For more sophisticated problems and integrating into large deep learning models use modules in the package `ddn.pytorch` instead.\n",
    "\n",
    "We consider the problem of minimizing the KL-divergence between the input $x$ and output $y$ subject to the output forming a valid probablility vector (i.e., the elements of $y$ be positive and sum to one). We will assume strictly positive $x$. The problem can be written formally as\n",
    "\n",
    "$$\n",
    "\\begin{array}{rll}\n",
    "y =& \\text{argmin}_u & - \\sum_{i=1}^{n} x_i \\log u_i \\\\\n",
    "& \\text{subject to} & \\sum_{i=1}^{n} u_i = 1\n",
    "\\end{array}\n",
    "$$\n",
    "where the positivity constraint on $y$ is automatically satisfied by the domain of the log function.\n",
    "\n",
    "A nice feature of this problem is that we can solve it in closed-form as\n",
    "$$\n",
    "y = \\frac{1}{\\sum_{i=1}^{n} x_i} x.\n",
    "$$\n",
    "\n",
    "However, we will only use this for verification and pretend for now that we do not have a closed-form solution. Instead we will make use of the `scipy.optimize` module to solve the problem via an iterative method. Deriving our deep declarative node from the `LinEqConstDeclarativeNode` class, we will need to implement two functions: the `objective` function and the `solve` function (the `constraint` and `gradient` functions are implemented for us).\n"
   ]
  },
  {
   "cell_type": "code",
   "execution_count": 1,
   "metadata": {},
   "outputs": [],
   "source": [
    "import numpy as np\n",
    "import scipy.optimize as opt\n",
    "\n",
    "import sys\n",
    "sys.path.append(\"../\")\n",
    "from ddn.basic.node import *\n",
    "\n",
    "import warnings\n",
    "warnings.filterwarnings('ignore')\n",
    "\n",
    "# create the example node\n",
    "class MinKLNode(LinEqConstDeclarativeNode):\n",
    "    def __init__(self, n):\n",
    "        # Here we establish the linear equality constraint, Au = b. Since we want the sum of the\n",
    "        # u_i to equal one we set A to be the all-ones row vector and b to be the scalar 1.\n",
    "        super().__init__(n, n, np.ones((1,n)), np.ones((1,1)))\n",
    "\n",
    "    def objective(self, x, u):\n",
    "        return -1.0 * np.dot(x, np.log(u))\n",
    "        \n",
    "    def solve(self, x):\n",
    "        # Solve the constrained optimization problem using scipy's built-in minimize function. Here we\n",
    "        # initialize the solver at the uniform distribution.\n",
    "        u0 = np.ones((self.dim_y,)) / self.dim_y\n",
    "        result = opt.minimize(lambda u: self.objective(x, u), u0,\n",
    "                              constraints={'type': 'eq', 'fun': lambda u: (np.dot(self.A, u) - self.b)[0]})\n",
    "        \n",
    "        # The solve function must always return two arguments, the solution and context (i.e., cached values needed\n",
    "        # for computing the gradient). In the case of linearly constrained problems we do not need the dual solution\n",
    "        # in computing the gradient so we return None for context.\n",
    "        return result.x, None"
   ]
  },
  {
   "cell_type": "code",
   "execution_count": 2,
   "metadata": {},
   "outputs": [
    {
     "name": "stdout",
     "output_type": "stream",
     "text": [
      "Input:           [0.37692117 0.39469637 0.59351185 0.6323761  0.09849465]\n",
      "Expected output: [0.17982879 0.18830933 0.28316403 0.30170614 0.04699172]\n",
      "Actual output:   [0.17980726 0.18827624 0.28324094 0.3016801  0.04699545]\n"
     ]
    }
   ],
   "source": [
    "# test the node\n",
    "node = MinKLNode(5)\n",
    "x = np.random.random(5)\n",
    "print(\"Input:           {}\".format(x))\n",
    "print(\"Expected output: {}\".format(x / np.sum(x)))\n",
    "\n",
    "y, _ = node.solve(x)\n",
    "print(\"Actual output:   {}\".format(y))\n"
   ]
  },
  {
   "cell_type": "markdown",
   "metadata": {},
   "source": [
    "We now plot the function and gradient sweeping the first component of the input $x_1$ from 0.1 to 10.0 while holding the other elements of $x$ constant."
   ]
  },
  {
   "cell_type": "code",
   "execution_count": 3,
   "metadata": {},
   "outputs": [
    {
     "data": {
      "image/png": "[encoded data removed]",
      "text/plain": [
       "<Figure size 432x288 with 2 Axes>"
      ]
     },
     "metadata": {
      "needs_background": "light"
     },
     "output_type": "display_data"
    }
   ],
   "source": [
    "%matplotlib inline\n",
    "import matplotlib.pyplot as plt\n",
    "\n",
    "x_data = np.linspace(0.1, 10.0, 100)\n",
    "y_data = []\n",
    "Dy_data = []\n",
    "for x[0] in x_data:\n",
    "    y, _ = node.solve(x)\n",
    "    y_data.append(y)\n",
    "    Dy_data.append(node.gradient(x, y)[:,0])\n",
    "    \n",
    "fig = plt.figure()\n",
    "plt.subplot(2, 1, 1)\n",
    "plt.plot(x_data, y_data)\n",
    "plt.ylabel(r\"$y$\")\n",
    "\n",
    "plt.subplot(2, 1, 2)\n",
    "plt.plot(x_data, Dy_data)\n",
    "plt.xlabel(r\"$x_1$\"); plt.ylabel(r\"$Dy_{:,1}$\")\n",
    "plt.show()\n"
   ]
  },
  {
   "cell_type": "markdown",
   "metadata": {},
   "source": [
    "### Multiple Equality Constraints\n",
    "Suppose the problem of multiple equality constraints is:\n",
    "$$\n",
    "\\begin{array}{rll}\n",
    "y =& \\text{argmin}_u & \\sum_{i=1}^{n} x_i u_i^{2} \\\\\n",
    "& \\text{subject to} & \\sum_{i=1}^{n-1} u_i^2 = 1 \\\\\n",
    "& & \\sum_{i=1}^{n} u_i = 0 \\\\\n",
    "\\end{array}\n",
    "$$"
   ]
  },
  {
   "cell_type": "code",
   "execution_count": 4,
   "metadata": {},
   "outputs": [],
   "source": [
    "# create the example node\n",
    "class MinMulNode(MultiEqConstDeclarativeNode):\n",
    "    def __init__(self, n):\n",
    "        super().__init__(n, n)\n",
    "\n",
    "    def objective(self, x, u):\n",
    "        return np.dot(x, u ** 2)\n",
    "    \n",
    "    def constraint(self, x, u):\n",
    "        return np.array([u[0] ** 2 + u[1] ** 2 - 1, u[0] + u[1] + u[2]])\n",
    "        \n",
    "    def solve(self, x):\n",
    "        # Solve the constrained optimization problem using scipy's built-in minimize function. Here we\n",
    "        # initialize the solver at the uniform distribution.\n",
    "        con1 = {'type': 'eq', 'fun': lambda u:u[0] ** 2 + u[1] ** 2 - 1}\n",
    "        con2 = {'type': 'eq', 'fun': lambda u:u[0] + u[1] + u[2]}\n",
    "        cons = ([con1,con2])\n",
    "        # initialize u0 = [sin30, cos30, -sin30-cos30] which is a feasible point\n",
    "        u0 = np.array([1/2, np.sqrt(3)/2, -(np.sqrt(3)-1)/2])\n",
    "        result = opt.minimize(lambda u: self.objective(x, u), u0,\n",
    "                              constraints=cons)\n",
    "        \n",
    "        # The solve function must always return two arguments, the solution and context (i.e., cached values needed\n",
    "        # for computing the gradient). In the case of linearly constrained problems we do not need the dual solution\n",
    "        # in computing the gradient so we return None for context.\n",
    "        return result.x, None"
   ]
  },
  {
   "cell_type": "code",
   "execution_count": 5,
   "metadata": {
    "scrolled": true
   },
   "outputs": [
    {
     "name": "stdout",
     "output_type": "stream",
     "text": [
      "Input:           [0.58004783 0.75813034 0.99481148]\n",
      "Actual output:   [-0.73785186  0.6749629   0.06288896]\n"
     ]
    }
   ],
   "source": [
    "# test the node\n",
    "mul_node = MinMulNode(3)\n",
    "x = np.random.random(3)\n",
    "print(\"Input:           {}\".format(x))\n",
    "\n",
    "y, _ = mul_node.solve(x)\n",
    "print(\"Actual output:   {}\".format(y))"
   ]
  },
  {
   "cell_type": "code",
   "execution_count": 6,
   "metadata": {
    "scrolled": true
   },
   "outputs": [
    {
     "data": {
      "image/png": "[encoded data removed]",
      "text/plain": [
       "<Figure size 432x288 with 2 Axes>"
      ]
     },
     "metadata": {
      "needs_background": "light"
     },
     "output_type": "display_data"
    }
   ],
   "source": [
    "x_data = np.linspace(0.1, 10.0, 100)\n",
    "y_data = []\n",
    "Dy_data = []\n",
    "for x[0] in x_data:\n",
    "    y, _ = mul_node.solve(x)\n",
    "    y_data.append(y)\n",
    "    Dy_data.append(mul_node.gradient(x, y)[:,0])\n",
    "    \n",
    "fig = plt.figure()\n",
    "plt.subplot(2, 1, 1)\n",
    "plt.plot(x_data, y_data)\n",
    "plt.ylabel(r\"$y$\")\n",
    "\n",
    "plt.subplot(2, 1, 2)\n",
    "plt.plot(x_data, Dy_data)\n",
    "plt.xlabel(r\"$x_1$\"); plt.ylabel(r\"$Dy_{:,1}$\")\n",
    "plt.show()\n"
   ]
  },
  {
   "cell_type": "markdown",
   "metadata": {},
   "source": [
    "### Inquality Constraints\n",
    "Suppose the problem of multiple constraints with at one equality constraint is:\n",
    "$$\n",
    "\\begin{array}{rll}\n",
    "y =& \\text{argmin}_u & \\sum_{i=1}^{n} x_i u_i^{2} \\\\\n",
    "& \\text{subject to} & \\sum_{i=1}^{n-1} u_i^2 = 1 \\\\\n",
    "& & \\sum_{i=1}^{n} u_i = 0 \\\\\n",
    "& & u_1 - u_2 < 0\n",
    "\\end{array}\n",
    "$$"
   ]
  },
  {
   "cell_type": "code",
   "execution_count": 7,
   "metadata": {},
   "outputs": [],
   "source": [
    "# create the example node\n",
    "class MinIneqNode(IneqConstDeclarativeNode):\n",
    "    def __init__(self, n):\n",
    "        super().__init__(n, n)\n",
    "\n",
    "    def objective(self, x, u):\n",
    "        return np.dot(x, u ** 2)\n",
    "    \n",
    "    def equality_constraints(self, x, u):\n",
    "        return np.array([u[0] ** 2 + u[1] ** 2 - 1, u[0] + u[1] + u[2]])\n",
    "    \n",
    "    def inequality_constraints(self, x, u):\n",
    "        return u[0] - u[1]\n",
    "\n",
    "    def solve(self, x):\n",
    "        # Solve the constrained optimization problem using scipy's built-in minimize function. Here we\n",
    "        # initialize the solver at the uniform distribution.\n",
    "        con1 = {'type': 'eq', 'fun': lambda u:u[0] ** 2 + u[1] ** 2 - 1}\n",
    "        con2 = {'type': 'eq', 'fun': lambda u:u[0] + u[1] + u[2]}\n",
    "        con3 = {'type': 'ineq', 'fun': lambda u: u[1] - u[0]}\n",
    "        cons = ([con1,con2,con3])\n",
    "        # initialize u0 = [sin30, cos30, -sin30-cos30] which is a feasible point\n",
    "        u0 = np.array([1/2, np.sqrt(3)/2, -(np.sqrt(3)-1)/2])\n",
    "        result = opt.minimize(lambda u: self.objective(x, u), u0, method='SLSQP', constraints=cons)\n",
    "        \n",
    "        # The solve function must always return two arguments, the solution and context (i.e., cached values needed\n",
    "        # for computing the gradient). In the case of linearly constrained problems we do not need the dual solution\n",
    "        # in computing the gradient so we return None for context.\n",
    "        return result.x, None"
   ]
  },
  {
   "cell_type": "code",
   "execution_count": 8,
   "metadata": {},
   "outputs": [
    {
     "name": "stdout",
     "output_type": "stream",
     "text": [
      "Input:           [0.78050469 0.87742387 0.37967479]\n",
      "Actual output:   [-0.75053825  0.66082701  0.08971125]\n"
     ]
    }
   ],
   "source": [
    "# test the node\n",
    "mul_ineq_node = MinIneqNode(3)\n",
    "x = np.random.random(3)\n",
    "print(\"Input:           {}\".format(x))\n",
    "\n",
    "y, _ = mul_ineq_node.solve(x)\n",
    "print(\"Actual output:   {}\".format(y))"
   ]
  },
  {
   "cell_type": "code",
   "execution_count": 9,
   "metadata": {},
   "outputs": [
    {
     "data": {
      "image/png": "[encoded data removed]",
      "text/plain": [
       "<Figure size 432x288 with 2 Axes>"
      ]
     },
     "metadata": {
      "needs_background": "light"
     },
     "output_type": "display_data"
    }
   ],
   "source": [
    "x_data = np.linspace(0.1, 10.0, 100)\n",
    "y_data = []\n",
    "Dy_data = []\n",
    "for x[0] in x_data:\n",
    "    y, _ = mul_ineq_node.solve(x)\n",
    "    y_data.append(y)\n",
    "    Dy_data.append(mul_ineq_node.gradient(x, y)[:,0])\n",
    "    \n",
    "fig = plt.figure()\n",
    "plt.subplot(2, 1, 1)\n",
    "plt.plot(x_data, y_data)\n",
    "plt.ylabel(r\"$y$\")\n",
    "\n",
    "plt.subplot(2, 1, 2)\n",
    "plt.plot(x_data, Dy_data)\n",
    "plt.xlabel(r\"$x_1$\"); plt.ylabel(r\"$Dy_{:,1}$\")\n",
    "plt.show()\n"
   ]
  },
  {
   "cell_type": "markdown",
   "metadata": {
    "collapsed": true
   },
   "source": [
    "### Bi-level optimization\n",
    "\n",
    "Now let's see whether we can use the node within a bi-level optimization problem. We will attempt to learn an input $x$ that results in an output $y$ with smallest norm-squared. Moreover, we will regularize the norm of $x$ to be close to 10. Given our understanding of KL-divergence this should learn a vector $x$ that is a constant multiple of the ones vector (i.e., all elements of $x$ should be the same). Let's see what happens."
   ]
  },
  {
   "cell_type": "code",
   "execution_count": 17,
   "metadata": {},
   "outputs": [
    {
     "name": "stdout",
     "output_type": "stream",
     "text": [
      "Found x = [4.47239478 4.47153689 4.47238326 4.47238924 4.47198514] with norm 10.00\n",
      "Results in y = [0.20001284 0.19996995 0.20001227 0.20001257 0.19999236]\n"
     ]
    },
    {
     "data": {
      "image/png": "[encoded data removed]",
      "text/plain": [
       "<Figure size 432x288 with 1 Axes>"
      ]
     },
     "metadata": {
      "needs_background": "light"
     },
     "output_type": "display_data"
    }
   ],
   "source": [
    "from autograd import grad\n",
    "\n",
    "# define the upper-level objective\n",
    "def JofXandY(x, y):\n",
    "    \"\"\"Computes our upper-level objective given both x and y.\"\"\"\n",
    "    return np.dot(y, y) + np.power(np.sqrt(np.dot(x, x)) - 10.0, 2.0)\n",
    "\n",
    "def JofX(x):\n",
    "    \"\"\"Computes our upper-level objective given x and with a y that minimizes the lower-level objective.\"\"\"\n",
    "    y, ctx = node.solve(x)\n",
    "    return JofXandY(x, y)\n",
    "\n",
    "def dJofX(x):\n",
    "    \"\"\"Computes the gradient of the upper-level objective with respect to x.\"\"\"\n",
    "    Jx = grad(JofXandY, 0)\n",
    "    Jy = grad(JofXandY, 1)\n",
    "    y, ctx = node.solve(x)\n",
    "    return Jx(x, y) + np.dot(Jy(x, y), node.gradient(x, y, ctx))\n",
    "\n",
    "# solve using L-BFGS\n",
    "x0 = np.random.random(node.dim_x)\n",
    "history = [JofX(x0)]\n",
    "result = opt.minimize(JofX, x0, args=(), method='L-BFGS-B', jac=dJofX,\n",
    "                      options={'maxiter': 100, 'disp': False},\n",
    "                      bounds=[(1.0e-6, None) for xk in x0],\n",
    "                      callback=lambda xk : history.append(JofX(xk)))\n",
    "\n",
    "x = result.x\n",
    "y, _ = node.solve(x)\n",
    "print(\"Found x = {} with norm {:0.2f}\".format(x, np.sqrt(np.dot(x, x))))\n",
    "print(\"Results in y = {}\".format(y))\n",
    "\n",
    "fig = plt.figure()\n",
    "plt.semilogy(history)\n",
    "plt.ylabel(\"upper-level objective (log-scale)\"); plt.xlabel(\"iteration\")\n",
    "plt.show()"
   ]
  },
  {
   "cell_type": "code",
   "execution_count": null,
   "metadata": {},
   "outputs": [],
   "source": []
  }
 ],
 "metadata": {
  "anaconda-cloud": {},
  "kernelspec": {
   "display_name": "Python 3",
   "language": "python",
   "name": "python3"
  },
  "language_info": {
   "codemirror_mode": {
    "name": "ipython",
    "version": 3
   },
   "file_extension": ".py",
   "mimetype": "text/x-python",
   "name": "python",
   "nbconvert_exporter": "python",
   "pygments_lexer": "ipython3",
   "version": "3.7.4"
  }
 },
 "nbformat": 4,
 "nbformat_minor": 1
}
